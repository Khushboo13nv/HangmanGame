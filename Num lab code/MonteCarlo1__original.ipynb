{
 "cells": [
  {
   "cell_type": "markdown",
   "metadata": {},
   "source": [
    "<h1> Simple Random Number Generators and Visual Tests </h1>\n",
    "\n",
    "In the following, you will investigate the 2-D correlation of random numbers obtained from this representative (low cycle) RNG, as a function of $A$. Note that such RNGs with $M$ being a power of two should create the full cycle if $C$ is odd and $A−1$ is a multiple of 4."
   ]
  },
  {
   "cell_type": "code",
   "execution_count": null,
   "metadata": {},
   "outputs": [],
   "source": [
    "import math\n",
    "import numpy as np\n",
    "%matplotlib inline\n",
    "import matplotlib.pyplot as plt"
   ]
  },
  {
   "cell_type": "markdown",
   "metadata": {},
   "source": [
    "<h3> a) Random Number Generator </h3>\n",
    "First check the results from fig. 1.5\n",
    "by writing a python function <i>get_random_numbers</i> that returns $N$ random numbers using the basic algorithm in eq. (1.16) and takes A, M, C and the seed as input and returns an array with N random numbers. **Make A, M, C and the seed optional parameters**."
   ]
  },
  {
   "cell_type": "code",
   "execution_count": null,
   "metadata": {},
   "outputs": [],
   "source": [
    "def get_random_numbers(n_numbers, seed=6 , a=63, c=3, m=2048):\n",
    "    \"\"\"Input:\n",
    "         n_numbers: how many random numbers to create\n",
    "         optional arguments: seed, a, c, m (see script)\n",
    "       Output:\n",
    "         numbers: the random numbers created\n",
    "    \"\"\"\n",
    "    # put your code here\n",
    "    return numbers"
   ]
  },
  {
   "cell_type": "markdown",
   "metadata": {},
   "source": [
    "Now check how fast your code runs using the timeit command and compare it to the random number generator from numpy (http://www.numpy.org/). Is there any way to speed up your code within python?"
   ]
  },
  {
   "cell_type": "code",
   "execution_count": null,
   "metadata": {},
   "outputs": [],
   "source": [
    "# if you want reproducable random numbers, you can set the seed using the following statement\n",
    "# np.random.seed(seed) # specify which seed to use\n",
    "\n",
    "%timeit -r 3 -n 100 get_random_numbers(10000) \n",
    "%timeit -r 3 -n 100 np.random.rand(10000)\n"
   ]
  },
  {
   "cell_type": "markdown",
   "metadata": {},
   "source": [
    "Reproduce figure 1.15 (the exact same figure, not just qualitatively) from the Instructions.  You have to choose an appropriate number of random numbers.\n",
    "<img src='http://www.usm.uni-muenchen.de/people/paech/Astro_Num_Lab/Random.png'>\n"
   ]
  },
  {
   "cell_type": "code",
   "execution_count": null,
   "metadata": {},
   "outputs": [],
   "source": []
  },
  {
   "cell_type": "markdown",
   "metadata": {},
   "source": [
    "<h3>b) The basic random number generator for different values of $A$</h3>\n",
    "After completing exercise a) successfully, modify the program in such a way that arbitrary values for an optional parameter $A$ (pick a default value) can be read in from the input (modifying $C$ will not change the principal result). Display the results for different $A$, $A = 5, 9, \\dots37$. Plot typical cases for large and small correlation. What do you conclude?\n"
   ]
  },
  {
   "cell_type": "code",
   "execution_count": null,
   "metadata": {},
   "outputs": [],
   "source": []
  },
  {
   "cell_type": "markdown",
   "metadata": {},
   "source": [
    "<h3>c) Comparison to the minimum standard generator</h3>\n",
    "Finally, for the same number of $N$ , plot the corresponding results obtained from the “minumum standard generator” ran1 defined in the next cell."
   ]
  },
  {
   "cell_type": "code",
   "execution_count": null,
   "metadata": {},
   "outputs": [],
   "source": [
    "def ran1(N, seed=5):\n",
    "    def rand():\n",
    "        m=2147483647\n",
    "        a=69621\n",
    "        q=30845\n",
    "        r=23902\n",
    "        m1=1./m\n",
    "        seed = rand.seed\n",
    "        k = int(seed/q) # use explicit cast to int in case of python3\n",
    "        seed = a*(seed - k*q) - r*k\n",
    "        if seed < 0: seed += m\n",
    "        ran = seed*m1\n",
    "        rand.seed = seed\n",
    "        return ran\n",
    "    rand.seed = seed\n",
    "    if N == 1:\n",
    "        return rand()\n",
    "    else:\n",
    "        return np.array([rand() for i in range(N)])    "
   ]
  },
  {
   "cell_type": "code",
   "execution_count": null,
   "metadata": {},
   "outputs": [],
   "source": [
    "# set N to an appropriate value\n",
    "N = 2\n",
    "my_numbers = ran1(N+1)\n",
    "plt.plot(my_numbers[1:-1:2], my_numbers[2::2],'.');\n",
    "plt.xlabel('$x_i$');\n",
    "plt.ylabel('$x_{i+1}$');"
   ]
  },
  {
   "cell_type": "code",
   "execution_count": null,
   "metadata": {
    "collapsed": true
   },
   "outputs": [],
   "source": []
  },
  {
   "cell_type": "code",
   "execution_count": null,
   "metadata": {
    "collapsed": true
   },
   "outputs": [],
   "source": []
  }
 ],
 "metadata": {
  "kernel_info": {
   "name": "python2"
  },
  "kernelspec": {
   "display_name": "Python 3 (ipykernel)",
   "language": "python",
   "name": "python3"
  },
  "language_info": {
   "codemirror_mode": {
    "name": "ipython",
    "version": 3
   },
   "file_extension": ".py",
   "mimetype": "text/x-python",
   "name": "python",
   "nbconvert_exporter": "python",
   "pygments_lexer": "ipython3",
   "version": "3.10.12"
  }
 },
 "nbformat": 4,
 "nbformat_minor": 2
}
