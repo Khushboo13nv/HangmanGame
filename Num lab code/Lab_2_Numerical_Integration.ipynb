{
 "cells": [
  {
   "cell_type": "markdown",
   "id": "1e5cc1e1",
   "metadata": {},
   "source": [
    "# Exercise: 4"
   ]
  },
  {
   "cell_type": "code",
   "execution_count": 7,
   "id": "9167de07",
   "metadata": {},
   "outputs": [
    {
     "ename": "NameError",
     "evalue": "name 'plt' is not defined",
     "output_type": "error",
     "traceback": [
      "\u001b[0;31m---------------------------------------------------------------------------\u001b[0m",
      "\u001b[0;31mNameError\u001b[0m                                 Traceback (most recent call last)",
      "Cell \u001b[0;32mIn[7], line 4\u001b[0m\n\u001b[1;32m      2\u001b[0m get_ipython()\u001b[38;5;241m.\u001b[39mrun_line_magic(\u001b[38;5;124m'\u001b[39m\u001b[38;5;124mmatplotlib\u001b[39m\u001b[38;5;124m'\u001b[39m, \u001b[38;5;124m'\u001b[39m\u001b[38;5;124minline\u001b[39m\u001b[38;5;124m'\u001b[39m)\n\u001b[1;32m      3\u001b[0m get_ipython()\u001b[38;5;241m.\u001b[39mrun_line_magic(\u001b[38;5;124m'\u001b[39m\u001b[38;5;124mconfig\u001b[39m\u001b[38;5;124m'\u001b[39m, \u001b[38;5;124m\"\u001b[39m\u001b[38;5;124mInlineBackend.figure_format = \u001b[39m\u001b[38;5;124m'\u001b[39m\u001b[38;5;124mretina\u001b[39m\u001b[38;5;124m'\u001b[39m\u001b[38;5;124m\"\u001b[39m)\n\u001b[0;32m----> 4\u001b[0m \u001b[43mplt\u001b[49m\u001b[38;5;241m.\u001b[39mrcdefaults()\n\u001b[1;32m      5\u001b[0m \u001b[38;5;28;01mimport\u001b[39;00m \u001b[38;5;21;01mmatplotlib\u001b[39;00m \u001b[38;5;28;01mas\u001b[39;00m \u001b[38;5;21;01mmpl\u001b[39;00m\n\u001b[1;32m      6\u001b[0m \u001b[38;5;28;01mfrom\u001b[39;00m \u001b[38;5;21;01mmatplotlib\u001b[39;00m \u001b[38;5;28;01mimport\u001b[39;00m rc\n",
      "\u001b[0;31mNameError\u001b[0m: name 'plt' is not defined"
     ]
    }
   ],
   "source": [
    "import numpy as np\n",
    "%matplotlib inline\n",
    "%config InlineBackend.figure_format = 'retina'\n",
    "plt.rcdefaults()\n",
    "import matplotlib as mpl\n",
    "from matplotlib import rc\n",
    "mpl.rc('font', family='serif', size=18)"
   ]
  },
  {
   "cell_type": "code",
   "execution_count": 2,
   "id": "742f34ec",
   "metadata": {},
   "outputs": [
    {
     "ename": "OSError",
     "evalue": "'standardStyle.mplstyle' is not a valid package style, path of style file, URL of style file, or library style name (library styles are listed in `style.available`)",
     "output_type": "error",
     "traceback": [
      "\u001b[0;31m---------------------------------------------------------------------------\u001b[0m",
      "\u001b[0;31mFileNotFoundError\u001b[0m                         Traceback (most recent call last)",
      "File \u001b[0;32m~/.local/lib/python3.10/site-packages/matplotlib/style/core.py:166\u001b[0m, in \u001b[0;36muse\u001b[0;34m(style)\u001b[0m\n\u001b[1;32m    165\u001b[0m \u001b[38;5;28;01mtry\u001b[39;00m:\n\u001b[0;32m--> 166\u001b[0m     style \u001b[38;5;241m=\u001b[39m \u001b[43m_rc_params_in_file\u001b[49m\u001b[43m(\u001b[49m\u001b[43mstyle\u001b[49m\u001b[43m)\u001b[49m\n\u001b[1;32m    167\u001b[0m \u001b[38;5;28;01mexcept\u001b[39;00m \u001b[38;5;167;01mIOError\u001b[39;00m \u001b[38;5;28;01mas\u001b[39;00m err:\n",
      "File \u001b[0;32m~/.local/lib/python3.10/site-packages/matplotlib/__init__.py:850\u001b[0m, in \u001b[0;36m_rc_params_in_file\u001b[0;34m(fname, transform, fail_on_error)\u001b[0m\n\u001b[1;32m    849\u001b[0m rc_temp \u001b[38;5;241m=\u001b[39m {}\n\u001b[0;32m--> 850\u001b[0m \u001b[38;5;28;01mwith\u001b[39;00m _open_file_or_url(fname) \u001b[38;5;28;01mas\u001b[39;00m fd:\n\u001b[1;32m    851\u001b[0m     \u001b[38;5;28;01mtry\u001b[39;00m:\n",
      "File \u001b[0;32m/usr/lib/python3.10/contextlib.py:135\u001b[0m, in \u001b[0;36m_GeneratorContextManager.__enter__\u001b[0;34m(self)\u001b[0m\n\u001b[1;32m    134\u001b[0m \u001b[38;5;28;01mtry\u001b[39;00m:\n\u001b[0;32m--> 135\u001b[0m     \u001b[38;5;28;01mreturn\u001b[39;00m \u001b[38;5;28;43mnext\u001b[39;49m\u001b[43m(\u001b[49m\u001b[38;5;28;43mself\u001b[39;49m\u001b[38;5;241;43m.\u001b[39;49m\u001b[43mgen\u001b[49m\u001b[43m)\u001b[49m\n\u001b[1;32m    136\u001b[0m \u001b[38;5;28;01mexcept\u001b[39;00m \u001b[38;5;167;01mStopIteration\u001b[39;00m:\n",
      "File \u001b[0;32m~/.local/lib/python3.10/site-packages/matplotlib/__init__.py:827\u001b[0m, in \u001b[0;36m_open_file_or_url\u001b[0;34m(fname)\u001b[0m\n\u001b[1;32m    826\u001b[0m fname \u001b[38;5;241m=\u001b[39m os\u001b[38;5;241m.\u001b[39mpath\u001b[38;5;241m.\u001b[39mexpanduser(fname)\n\u001b[0;32m--> 827\u001b[0m \u001b[38;5;28;01mwith\u001b[39;00m \u001b[38;5;28;43mopen\u001b[39;49m\u001b[43m(\u001b[49m\u001b[43mfname\u001b[49m\u001b[43m,\u001b[49m\u001b[43m \u001b[49m\u001b[43mencoding\u001b[49m\u001b[38;5;241;43m=\u001b[39;49m\u001b[38;5;124;43m'\u001b[39;49m\u001b[38;5;124;43mutf-8\u001b[39;49m\u001b[38;5;124;43m'\u001b[39;49m\u001b[43m)\u001b[49m \u001b[38;5;28;01mas\u001b[39;00m f:\n\u001b[1;32m    828\u001b[0m     \u001b[38;5;28;01myield\u001b[39;00m f\n",
      "\u001b[0;31mFileNotFoundError\u001b[0m: [Errno 2] No such file or directory: 'standardStyle.mplstyle'",
      "\nThe above exception was the direct cause of the following exception:\n",
      "\u001b[0;31mOSError\u001b[0m                                   Traceback (most recent call last)",
      "Cell \u001b[0;32mIn[2], line 15\u001b[0m\n\u001b[1;32m     10\u001b[0m light_green \u001b[38;5;241m=\u001b[39m (\u001b[38;5;241m0.23\u001b[39m, \u001b[38;5;241m0.85\u001b[39m, \u001b[38;5;241m0.25\u001b[39m, \u001b[38;5;241m0.4\u001b[39m)\n\u001b[1;32m     11\u001b[0m lightest_green \u001b[38;5;241m=\u001b[39m (\u001b[38;5;241m0.23\u001b[39m, \u001b[38;5;241m0.85\u001b[39m, \u001b[38;5;241m0.25\u001b[39m, \u001b[38;5;241m0.1\u001b[39m)\n\u001b[0;32m---> 15\u001b[0m \u001b[38;5;28;01mfrom\u001b[39;00m \u001b[38;5;21;01mstyles\u001b[39;00m\u001b[38;5;21;01m.\u001b[39;00m\u001b[38;5;21;01mmatplotlib_style\u001b[39;00m \u001b[38;5;28;01mimport\u001b[39;00m \u001b[38;5;241m*\u001b[39m\n\u001b[1;32m     16\u001b[0m \u001b[38;5;66;03m# plt.style.use(\"plot_style\")\u001b[39;00m\n",
      "File \u001b[0;32m~/lmu_2nd_semester/Numerical lab/Lab - 2 Numerical Integration_/styles/matplotlib_style.py:13\u001b[0m\n\u001b[1;32m     10\u001b[0m light_green \u001b[38;5;241m=\u001b[39m (\u001b[38;5;241m0.23\u001b[39m, \u001b[38;5;241m0.85\u001b[39m, \u001b[38;5;241m0.25\u001b[39m, \u001b[38;5;241m0.4\u001b[39m)\n\u001b[1;32m     11\u001b[0m lightest_green \u001b[38;5;241m=\u001b[39m (\u001b[38;5;241m0.23\u001b[39m, \u001b[38;5;241m0.85\u001b[39m, \u001b[38;5;241m0.25\u001b[39m, \u001b[38;5;241m0.1\u001b[39m)\n\u001b[0;32m---> 13\u001b[0m \u001b[43mplt\u001b[49m\u001b[38;5;241;43m.\u001b[39;49m\u001b[43mstyle\u001b[49m\u001b[38;5;241;43m.\u001b[39;49m\u001b[43muse\u001b[49m\u001b[43m(\u001b[49m\u001b[38;5;124;43m\"\u001b[39;49m\u001b[38;5;124;43mstandardStyle.mplstyle\u001b[39;49m\u001b[38;5;124;43m\"\u001b[39;49m\u001b[43m)\u001b[49m\n",
      "File \u001b[0;32m~/.local/lib/python3.10/site-packages/matplotlib/style/core.py:168\u001b[0m, in \u001b[0;36muse\u001b[0;34m(style)\u001b[0m\n\u001b[1;32m    166\u001b[0m         style \u001b[38;5;241m=\u001b[39m _rc_params_in_file(style)\n\u001b[1;32m    167\u001b[0m     \u001b[38;5;28;01mexcept\u001b[39;00m \u001b[38;5;167;01mIOError\u001b[39;00m \u001b[38;5;28;01mas\u001b[39;00m err:\n\u001b[0;32m--> 168\u001b[0m         \u001b[38;5;28;01mraise\u001b[39;00m \u001b[38;5;167;01mIOError\u001b[39;00m(\n\u001b[1;32m    169\u001b[0m             \u001b[38;5;124mf\u001b[39m\u001b[38;5;124m\"\u001b[39m\u001b[38;5;132;01m{\u001b[39;00mstyle\u001b[38;5;132;01m!r}\u001b[39;00m\u001b[38;5;124m is not a valid package style, path of style \u001b[39m\u001b[38;5;124m\"\u001b[39m\n\u001b[1;32m    170\u001b[0m             \u001b[38;5;124mf\u001b[39m\u001b[38;5;124m\"\u001b[39m\u001b[38;5;124mfile, URL of style file, or library style name (library \u001b[39m\u001b[38;5;124m\"\u001b[39m\n\u001b[1;32m    171\u001b[0m             \u001b[38;5;124mf\u001b[39m\u001b[38;5;124m\"\u001b[39m\u001b[38;5;124mstyles are listed in `style.available`)\u001b[39m\u001b[38;5;124m\"\u001b[39m) \u001b[38;5;28;01mfrom\u001b[39;00m \u001b[38;5;21;01merr\u001b[39;00m\n\u001b[1;32m    172\u001b[0m filtered \u001b[38;5;241m=\u001b[39m {}\n\u001b[1;32m    173\u001b[0m \u001b[38;5;28;01mfor\u001b[39;00m k \u001b[38;5;129;01min\u001b[39;00m style:  \u001b[38;5;66;03m# don't trigger RcParams.__getitem__('backend')\u001b[39;00m\n",
      "\u001b[0;31mOSError\u001b[0m: 'standardStyle.mplstyle' is not a valid package style, path of style file, URL of style file, or library style name (library styles are listed in `style.available`)"
     ]
    }
   ],
   "source": [
    "import matplotlib.pyplot as plt\n",
    "\n",
    "red = (0.74, 0.1, 0.1, 1)\n",
    "light_red = (0.74, 0.1, 0.1, 0.4)\n",
    "blue = (0, 0.37, 0.99, 1)\n",
    "light_blue = (0.42, 0.8, 0.93, 0.4)\n",
    "lighter_blue = (0.42, 0.8, 0.93, 0.3)\n",
    "lightest_blue = (0.42, 0.8, 0.93, 0.1)\n",
    "green = (0.23, 0.85, 0.25, 1)\n",
    "light_green = (0.23, 0.85, 0.25, 0.4)\n",
    "lightest_green = (0.23, 0.85, 0.25, 0.1)\n",
    "\n",
    "\n",
    "\n",
    "from styles.matplotlib_style import *\n",
    "# plt.style.use(\"plot_style\")"
   ]
  },
  {
   "cell_type": "code",
   "execution_count": 179,
   "id": "38a83055",
   "metadata": {},
   "outputs": [],
   "source": [
    "import math\n",
    "import numpy as np  \n",
    "# import matplotlib.pyplot as plt"
   ]
  },
  {
   "cell_type": "code",
   "execution_count": 8,
   "id": "a2ffd61c",
   "metadata": {},
   "outputs": [],
   "source": [
    "#CONSTANTS\n",
    "R_s = 9*6.9599e10  #cm\n",
    "T_s = 40000.0      #K\n",
    "c = 2.99792458e10   #cm/s\n",
    "k = 1.380658e-16    #erg/K\n",
    "h = 6.260755e-27     #erg s\n",
    "n_H = 10.0 #cm^-3\n",
    "T_e = 7500.\n",
    "T_4 = 0.75\n",
    "\n",
    "a = 1.0973731569e5 * c\n",
    "b =  1.5e16\n",
    "N = 15\n",
    "\n",
    "# stellar_temp = 40_000\n",
    "# stellar_radius = 9*6.9599e10"
   ]
  },
  {
   "cell_type": "code",
   "execution_count": 9,
   "id": "c661ed21",
   "metadata": {},
   "outputs": [],
   "source": [
    "def luminosity_func(nu):\n",
    "    B = ((2*h*nu**3 )/(c**2))*(1/(np.exp(h*nu/(k*T_s))-1))\n",
    "    L = 4*(np.pi**2)*(R_s**2)*B\n",
    "    integrand = L/(h*nu)\n",
    "    return integrand"
   ]
  },
  {
   "cell_type": "code",
   "execution_count": 12,
   "id": "d4d9c8e0",
   "metadata": {},
   "outputs": [
    {
     "ename": "NameError",
     "evalue": "name 'Trap' is not defined",
     "output_type": "error",
     "traceback": [
      "\u001b[0;31m---------------------------------------------------------------------------\u001b[0m",
      "\u001b[0;31mNameError\u001b[0m                                 Traceback (most recent call last)",
      "Cell \u001b[0;32mIn[12], line 23\u001b[0m\n\u001b[1;32m     21\u001b[0m             I[i, j] \u001b[38;5;241m=\u001b[39m I_ij\n\u001b[1;32m     22\u001b[0m     \u001b[38;5;28;01mreturn\u001b[39;00m I\n\u001b[0;32m---> 23\u001b[0m I \u001b[38;5;241m=\u001b[39m \u001b[43mintegral_QH0\u001b[49m\u001b[43m(\u001b[49m\u001b[43ma\u001b[49m\u001b[43m,\u001b[49m\u001b[43mb\u001b[49m\u001b[43m,\u001b[49m\u001b[43mN\u001b[49m\u001b[43m,\u001b[49m\u001b[43mluminosity_func\u001b[49m\u001b[43m)\u001b[49m\n\u001b[1;32m     24\u001b[0m Q_H0 \u001b[38;5;241m=\u001b[39m I[\u001b[38;5;241m0\u001b[39m, \u001b[38;5;241m-\u001b[39m\u001b[38;5;241m1\u001b[39m]\n",
      "Cell \u001b[0;32mIn[12], line 2\u001b[0m, in \u001b[0;36mintegral_QH0\u001b[0;34m(a, b, N, func)\u001b[0m\n\u001b[1;32m      1\u001b[0m \u001b[38;5;28;01mdef\u001b[39;00m \u001b[38;5;21mintegral_QH0\u001b[39m(a, b, N,func):\n\u001b[0;32m----> 2\u001b[0m     I_01 \u001b[38;5;241m=\u001b[39m \u001b[43mTrap\u001b[49m(a, b, \u001b[38;5;241m1\u001b[39m,func)\n\u001b[1;32m      3\u001b[0m     I1 \u001b[38;5;241m=\u001b[39m [I_01]\n\u001b[1;32m      5\u001b[0m     \u001b[38;5;28;01mfor\u001b[39;00m i \u001b[38;5;129;01min\u001b[39;00m \u001b[38;5;28mrange\u001b[39m(\u001b[38;5;241m1\u001b[39m, N\u001b[38;5;241m+\u001b[39m\u001b[38;5;241m1\u001b[39m):\n",
      "\u001b[0;31mNameError\u001b[0m: name 'Trap' is not defined"
     ]
    }
   ],
   "source": [
    "def integral_QH0(a, b, N,func):\n",
    "    I_01 = Trap(a, b, 1,func)\n",
    "    I1 = [I_01]\n",
    "\n",
    "    for i in range(1, N+1):\n",
    "        k_odd = [k_i for k_i in range(1, 2**i+1) if k_i%2!=0]          \n",
    "        I_ = [func(a+(b-a)/2**i*k) for k in k_odd]\n",
    "        I_ = np.array(I_)\n",
    "        I_i1 = 0.5*((I1[i-1]) + (b-a)/2**(i-1)*np.sum(I_))\n",
    "        I1.append(I_i1)\n",
    "\n",
    "    #I IS THE ROMBERG MATRIX      \n",
    "    I = np.zeros((N + 1, N + 1))\n",
    "    print(np.shape(I1))\n",
    "    print(np.shape(I))\n",
    "    I[:, 0] = I1\n",
    "\n",
    "    for j in range(1, N + 1):\n",
    "        for i in range(0, N + 1 - j):\n",
    "            I_ij = (4 ** (j) * I[i + 1, j - 1] - I[i, j - 1])/(4 ** (j) - 1)\n",
    "            I[i, j] = I_ij\n",
    "    return I\n",
    "I = integral_QH0(a,b,N,luminosity_func)\n",
    "Q_H0 = I[0, -1]"
   ]
  },
  {
   "cell_type": "code",
   "execution_count": 11,
   "id": "53899fbd",
   "metadata": {},
   "outputs": [
    {
     "ename": "NameError",
     "evalue": "name 'Q_H0' is not defined",
     "output_type": "error",
     "traceback": [
      "\u001b[0;31m---------------------------------------------------------------------------\u001b[0m",
      "\u001b[0;31mNameError\u001b[0m                                 Traceback (most recent call last)",
      "Cell \u001b[0;32mIn[11], line 7\u001b[0m\n\u001b[1;32m      5\u001b[0m     R \u001b[38;5;241m=\u001b[39m \u001b[38;5;241m3.15e-15\u001b[39m\u001b[38;5;241m*\u001b[39m(Q_H0\u001b[38;5;241m/\u001b[39mn_H\u001b[38;5;241m*\u001b[39m\u001b[38;5;241m*\u001b[39m\u001b[38;5;241m2\u001b[39m)\u001b[38;5;241m*\u001b[39m\u001b[38;5;241m*\u001b[39m(\u001b[38;5;241m1\u001b[39m\u001b[38;5;241m/\u001b[39m\u001b[38;5;241m3\u001b[39m)\u001b[38;5;241m*\u001b[39mT_4\u001b[38;5;241m*\u001b[39m\u001b[38;5;241m*\u001b[39m(\u001b[38;5;241m0.28\u001b[39m)\n\u001b[1;32m      6\u001b[0m     \u001b[38;5;28;01mreturn\u001b[39;00m R\n\u001b[0;32m----> 7\u001b[0m R \u001b[38;5;241m=\u001b[39m stromgren_radius(\u001b[43mQ_H0\u001b[49m,T_4,n_H)\n\u001b[1;32m      9\u001b[0m \u001b[38;5;66;03m#print(\"The strömgren radius is \", R)\u001b[39;00m\n",
      "\u001b[0;31mNameError\u001b[0m: name 'Q_H0' is not defined"
     ]
    }
   ],
   "source": [
    "#print(\"integral val: \", Q_H0)\n",
    "\n",
    "def stromgren_radius(Q_H0,T_4, n_H):\n",
    "    #STROMGREN RADIUS EQUATION\n",
    "    R = 3.15e-15*(Q_H0/n_H**2)**(1/3)*T_4**(0.28)\n",
    "    return R\n",
    "R = stromgren_radius(Q_H0,T_4,n_H)\n",
    "\n",
    "#print(\"The strömgren radius is \", R)"
   ]
  },
  {
   "cell_type": "code",
   "execution_count": 17,
   "id": "c184fa21",
   "metadata": {
    "scrolled": true
   },
   "outputs": [
    {
     "name": "stderr",
     "output_type": "stream",
     "text": [
      "/tmp/ipykernel_12586/1884056588.py:3: RuntimeWarning: divide by zero encountered in true_divide\n",
      "  B = ((2*h*nu**3 )/(c**2))*(1/(np.exp(h*nu/(k*T_s))-1))\n",
      "/tmp/ipykernel_12586/1884056588.py:3: RuntimeWarning: invalid value encountered in multiply\n",
      "  B = ((2*h*nu**3 )/(c**2))*(1/(np.exp(h*nu/(k*T_s))-1))\n"
     ]
    },
    {
     "data": {
      "text/plain": [
       "<matplotlib.legend.Legend at 0x7d2b592ac130>"
      ]
     },
     "execution_count": 17,
     "metadata": {},
     "output_type": "execute_result"
    },
    {
     "data": {
      "image/png": "[encoded data removed]",
      "text/plain": [
       "<Figure size 640x480 with 1 Axes>"
      ]
     },
     "metadata": {
      "image/png": {
       "height": 448,
       "width": 569
      }
     },
     "output_type": "display_data"
    }
   ],
   "source": [
    "#PLOTTING OF INTEGRAND FUNCTION\n",
    "def luminosity_func(nu):\n",
    "    B = ((2*h*nu**3 )/(c**2))*(1/(np.exp(h*nu/(k*T_s))-1))\n",
    "    L = 4*(np.pi**2)*(R_s**2)*B\n",
    "    integrand = L/(h*nu)\n",
    "    return integrand\n",
    "\n",
    "nu = np.linspace(0,2e16,1000)\n",
    "plt.axvline(1.5e16,ls='--',c='r')\n",
    "plt.axhline(0.5e34, color='g', linestyle='--', linewidth=2, label='y = 0.5')\n",
    "\n",
    "plt.plot(nu,luminosity_func(nu), label='$L_{\\\\nu}/h{\\\\nu}$')\n",
    "plt.xlabel('$\\\\nu$')\n",
    "plt.ylabel('Integrand [$L_{\\\\nu}/h{\\\\nu}$]')\n",
    "plt.legend()"
   ]
  },
  {
   "cell_type": "markdown",
   "id": "03041dbf",
   "metadata": {},
   "source": [
    "### Implementation: Trapezoidal Rule"
   ]
  },
  {
   "cell_type": "code",
   "execution_count": 29,
   "id": "1c8602c0",
   "metadata": {},
   "outputs": [],
   "source": [
    "# N = 15\n",
    "# for i in range(1, N+1):\n",
    "#     odd_numbers = [num for num in range(1, 2**i-1+2) if num%2!=0]\n",
    "#     print(f'i1:{2**i-1+2}')\n",
    "#     print(f'i2:{2**i+1}')"
   ]
  },
  {
   "cell_type": "code",
   "execution_count": null,
   "id": "9177b912",
   "metadata": {},
   "outputs": [],
   "source": []
  },
  {
   "attachments": {
    "Screenshot%20from%202024-07-14%2008-47-53.png": {
     "image/png": "[encoded data removed]"
    }
   },
   "cell_type": "markdown",
   "id": "8237b2dc",
   "metadata": {},
   "source": [
    "![Screenshot%20from%202024-07-14%2008-47-53.png](attachment:Screenshot%20from%202024-07-14%2008-47-53.png)"
   ]
  },
  {
   "cell_type": "code",
   "execution_count": 105,
   "id": "b2451844",
   "metadata": {},
   "outputs": [
    {
     "name": "stdout",
     "output_type": "stream",
     "text": [
      "2.1746607500246876e+50\n",
      "1.0873303750124238e+50\n",
      "5.436658118187206e+49\n",
      "2.7261632468527743e+49\n",
      "1.505173369050803e+49\n",
      "1.1193584303267961e+49\n",
      "1.0215850800974535e+49\n",
      "9.973142065825918e+48\n",
      "9.9126209525344e+48\n",
      "9.89750117976525e+48\n",
      "9.893721904848789e+48\n",
      "9.892777128069128e+48\n",
      "9.892540936498901e+48\n",
      "9.892481888770429e+48\n",
      "9.892467126848569e+48\n",
      "integral val:  9.89246220620886e+48\n",
      "The strömgren radius is  13.440925506606165\n"
     ]
    }
   ],
   "source": [
    "lower_bound = 1.0973731569E+05 * c\n",
    "upper_bound = 1.25e16*5\n",
    "step_size = 15\n",
    "\n",
    "integral_value_Q_H0_matrix = Romberging(a=lower_bound, b=upper_bound, N=step_size, func=specific_luminosity_planck)\n",
    "best_romberg_value = integral_value_Q_H0_matrix[0, -1]\n",
    "\n",
    "print(\"integral val: \", best_romberg_value)\n",
    "\n",
    "def calculate_r_s(QH0, T, n_H):\n",
    "    # stromgren radius\n",
    "    return 3.15e-15 * (QH0/n_H**2)**(1/3)*T**(0.28)\n",
    "\n",
    "strömgren_radius = calculate_r_s(QH0=best_romberg_value, T=0.75, n_H=10)\n",
    "\n",
    "print(\"The strömgren radius is \", strömgren_radius)"
   ]
  },
  {
   "cell_type": "code",
   "execution_count": null,
   "id": "cf4cab43",
   "metadata": {},
   "outputs": [],
   "source": []
  },
  {
   "cell_type": "code",
   "execution_count": 13,
   "id": "1e3c5823",
   "metadata": {},
   "outputs": [
    {
     "name": "stdout",
     "output_type": "stream",
     "text": [
      "[2.1746607500246876e+50]\n",
      "integral val:  9.89246220620886e+48\n",
      "The strömgren radius is  13.440925506606165\n"
     ]
    }
   ],
   "source": [
    "import math\n",
    "import numpy as np  # thanks flo\n",
    "import matplotlib.pyplot as plt\n",
    "\n",
    "h = 6.6260755E-27\n",
    "c = 2.99792458E+10\n",
    "k = 1.380658E-16\n",
    "\n",
    "def f(x):\n",
    "   return math.sin(x)\n",
    "\n",
    "\n",
    "def another_example(x):\n",
    "    return np.exp(-x**2)\n",
    "\n",
    "def yet_another_example(x):\n",
    "    return 1/(1+x**2)\n",
    "\n",
    "\n",
    "def yet_another_another_example(x):\n",
    "    return x*np.exp(2*x)\n",
    "\n",
    "\n",
    "def Trap(a, b, n, func):\n",
    "    # N IS THE NUMBER OF INTERVALS\n",
    "    h = (b - a) / n\n",
    "    area = (func(a) + func(b))/2.0\n",
    "\n",
    "    for i in range(1, n):\n",
    "        x = a + i*h  # increment the x\n",
    "        area = area + func(x)\n",
    "    return area * h\n",
    "\n",
    "\n",
    "def Romberging(a, b, N, func):\n",
    "\n",
    "    first_value = Trap(a, b, 1, func)\n",
    "    first_column = [first_value]\n",
    "    print(first_column)\n",
    "\n",
    "    for i in range(1, N+1):\n",
    "        odd_numbers = [num for num in range(1, 2**i-1+2) if num%2!=0]  # flos contribution\n",
    "        samples = [func(a+(b-a)/2**i*k) for k in odd_numbers]\n",
    "\n",
    "        to_sum = np.array(samples)\n",
    "        term = 1/2 * ((first_column[i-1]) + (b-a)/2**(i-1)*np.sum(to_sum))\n",
    "        first_column.append(term)\n",
    "\n",
    "    # alis approach\n",
    "    romberg_matrix = np.zeros((N + 1, N + 1))\n",
    "    romberg_matrix[:, 0] = first_column\n",
    "\n",
    "    # alis approach\n",
    "    for j in range(1, N + 1):\n",
    "        for i in range(0, N + 1 - j):\n",
    "            # is the row index\n",
    "            # print(\"j, i \", j, i)\n",
    "            # romberg_matrix[i, j] = area_contribution\n",
    "            I = romberg_matrix\n",
    "            area = (4 ** (j) * I[i + 1, j - 1] - I[i, j - 1]) / (4 ** (j) - 1)\n",
    "            romberg_matrix[i, j] = area\n",
    "        # j is the column index\n",
    "\n",
    "    return romberg_matrix\n",
    "\n",
    "\n",
    "def black_body_intensity(nu, T):\n",
    "    # This is B_ν\n",
    "    return (2*h*nu**3 / c**2) * 1/(np.exp(h*nu/(k*T))-1)\n",
    "\n",
    "\n",
    "def black_body_luminosity(nu, T, R):\n",
    "    # This is L_ν\n",
    "    return 4*np.pi**2 * R**2 * black_body_intensity(nu, T)\n",
    "\n",
    "\n",
    "def specific_luminosity_planck(nu):\n",
    "    # Τhis is L_ν / (hν)\n",
    "    stellar_temp = 40_000\n",
    "    stellar_radius = 9*6.9599e10\n",
    "    return black_body_luminosity(nu=nu, T=stellar_temp, R=stellar_radius) / (h*nu)\n",
    "\n",
    "plot_integrand = False\n",
    "\n",
    "if plot_integrand:\n",
    "    nu_continuous = np.linspace(0, 2*1e16, 1000)\n",
    "    plt.plot(nu_continuous, specific_luminosity_planck(nu=nu_continuous), \"b.\")\n",
    "    plt.xlabel(\"Frequency\")\n",
    "    plt.ylabel(\"Integrand of $Q(H^0)$\")\n",
    "    plt.show()\n",
    "\n",
    "\n",
    "lower_bound = 1.0973731569E+05 * c\n",
    "upper_bound = 1.25e16*5\n",
    "step_size = 15\n",
    "\n",
    "integral_value_Q_H0_matrix = Romberging(a=lower_bound, b=upper_bound, N=step_size, func=specific_luminosity_planck)\n",
    "best_romberg_value = integral_value_Q_H0_matrix[0, -1]\n",
    "\n",
    "print(\"integral val: \", best_romberg_value)\n",
    "\n",
    "def calculate_r_s(QH0, T, n_H):\n",
    "    # stromgren radius\n",
    "    return 3.15e-15 * (QH0/n_H**2)**(1/3) * T**(0.28)\n",
    "\n",
    "strömgren_radius = calculate_r_s(QH0=best_romberg_value, T=0.75, n_H=10)\n",
    "\n",
    "print(\"The strömgren radius is \", strömgren_radius)"
   ]
  },
  {
   "cell_type": "code",
   "execution_count": 5,
   "id": "3d9de60f",
   "metadata": {},
   "outputs": [
    {
     "ename": "NameError",
     "evalue": "name 'first_value' is not defined",
     "output_type": "error",
     "traceback": [
      "\u001b[0;31m---------------------------------------------------------------------------\u001b[0m",
      "\u001b[0;31mNameError\u001b[0m                                 Traceback (most recent call last)",
      "Cell \u001b[0;32mIn[5], line 1\u001b[0m\n\u001b[0;32m----> 1\u001b[0m \u001b[43mfirst_value\u001b[49m\n",
      "\u001b[0;31mNameError\u001b[0m: name 'first_value' is not defined"
     ]
    }
   ],
   "source": [
    "first_value"
   ]
  },
  {
   "cell_type": "code",
   "execution_count": 139,
   "id": "2ce8e5c3",
   "metadata": {},
   "outputs": [
    {
     "name": "stdout",
     "output_type": "stream",
     "text": [
      "n  Tn  Error  Ratio\n",
      "1  0.785398163  2.15e-01  4.13\n",
      "2  0.948059449  5.19e-02  4.03\n",
      "4  0.987115801  1.29e-02  4.01\n",
      "8  0.996785172  3.21e-03  4.00\n",
      "16  0.999196680  8.03e-04  4.00\n",
      "32  0.999799194  2.01e-04  4.00\n",
      "64  0.999949800  5.02e-05  4.00\n",
      "128  0.999987450  1.26e-05  4.00\n"
     ]
    },
    {
     "ename": "IndexError",
     "evalue": "list index out of range",
     "output_type": "error",
     "traceback": [
      "\u001b[0;31m---------------------------------------------------------------------------\u001b[0m",
      "\u001b[0;31mIndexError\u001b[0m                                Traceback (most recent call last)",
      "Cell \u001b[0;32mIn[139], line 67\u001b[0m\n\u001b[1;32m     65\u001b[0m \u001b[38;5;28mprint\u001b[39m(\u001b[38;5;124mf\u001b[39m\u001b[38;5;124m'\u001b[39m\u001b[38;5;124mn \u001b[39m\u001b[38;5;132;01m{\u001b[39;00mspaces\u001b[38;5;132;01m}\u001b[39;00m\u001b[38;5;124m Tn \u001b[39m\u001b[38;5;132;01m{\u001b[39;00mspaces\u001b[38;5;132;01m}\u001b[39;00m\u001b[38;5;124m Error \u001b[39m\u001b[38;5;132;01m{\u001b[39;00mspaces\u001b[38;5;132;01m}\u001b[39;00m\u001b[38;5;124m Ratio\u001b[39m\u001b[38;5;124m'\u001b[39m)    \n\u001b[1;32m     66\u001b[0m \u001b[38;5;28;01mfor\u001b[39;00m i \u001b[38;5;129;01min\u001b[39;00m \u001b[38;5;28mrange\u001b[39m(\u001b[38;5;241m9\u001b[39m):\n\u001b[0;32m---> 67\u001b[0m     \u001b[38;5;28mprint\u001b[39m(\u001b[38;5;124mf\u001b[39m\u001b[38;5;124m'\u001b[39m\u001b[38;5;132;01m{\u001b[39;00mn_[i]\u001b[38;5;132;01m}\u001b[39;00m\u001b[38;5;124m \u001b[39m\u001b[38;5;132;01m{\u001b[39;00mspaces\u001b[38;5;132;01m}\u001b[39;00m\u001b[38;5;124m \u001b[39m\u001b[38;5;132;01m{\u001b[39;00mT_n[i]\u001b[38;5;132;01m:\u001b[39;00m\u001b[38;5;124m0.9f\u001b[39m\u001b[38;5;132;01m}\u001b[39;00m\u001b[38;5;124m \u001b[39m\u001b[38;5;132;01m{\u001b[39;00mspaces\u001b[38;5;132;01m}\u001b[39;00m\u001b[38;5;124m \u001b[39m\u001b[38;5;132;01m{\u001b[39;00merror_[i]\u001b[38;5;132;01m:\u001b[39;00m\u001b[38;5;124m0.2e\u001b[39m\u001b[38;5;132;01m}\u001b[39;00m\u001b[38;5;124m \u001b[39m\u001b[38;5;132;01m{\u001b[39;00mspaces\u001b[38;5;132;01m}\u001b[39;00m\u001b[38;5;124m \u001b[39m\u001b[38;5;132;01m{\u001b[39;00m\u001b[43mratio\u001b[49m\u001b[43m[\u001b[49m\u001b[43mi\u001b[49m\u001b[43m]\u001b[49m\u001b[38;5;132;01m:\u001b[39;00m\u001b[38;5;124m0.2f\u001b[39m\u001b[38;5;132;01m}\u001b[39;00m\u001b[38;5;124m'\u001b[39m)\n\u001b[1;32m     75\u001b[0m     \u001b[38;5;66;03m#print(f'{error:0.2e}')\u001b[39;00m\n\u001b[1;32m     76\u001b[0m \u001b[38;5;66;03m#     print(\"With n =\", n, \"intervals, our trapezoid estimate\")\u001b[39;00m\n\u001b[1;32m     77\u001b[0m \u001b[38;5;66;03m#     print (\"Area from\", a, \"to\", b, \"= %.15f\" % area)\u001b[39;00m\n\u001b[1;32m     78\u001b[0m \u001b[38;5;66;03m#    print(f'{n} {spaces} {area} {spaces} {})\u001b[39;00m\n",
      "\u001b[0;31mIndexError\u001b[0m: list index out of range"
     ]
    }
   ],
   "source": [
    "# Purpose: Calculate area using trapezoidal rule.\n",
    "# Input: a, b, n\n",
    "# Output: estimate of area between x-axis, x = a, x = b\n",
    "# using n trapezoids.\n",
    "# Usage: python Trapez.py\n",
    "# Note: The function f(x) is hardwired.\n",
    "from sys import stdin #standard input\n",
    "import math\n",
    "# Function: f\n",
    "# Purpose: Compute value of function to be integrated\n",
    "# Input args: x (double)\n",
    "# Return val: f(x) (double)\n",
    "def f(x):\n",
    "    return_val = math.sin(x)\n",
    "    return return_val\n",
    "# End of f \n",
    "# Function: Trap\n",
    "# Purpose: Estimate area using the trapezoidal rule\n",
    "# Input args: a: left endpoint (double)\n",
    "# b: right endpoint (double)\n",
    "# n: number of trapezoids (int)\n",
    "# h: stepsize = length of base of trapezoids (double)\n",
    "# Return val: Trapezoidal rule estimate of area between x-axis,\n",
    "\n",
    "T_n = []\n",
    "def Trap(a, b, n, h):\n",
    "    area = (f(a) + f(b))/2\n",
    "#     area_1 = f(a)\n",
    "#     print(f'Area_1{area_1}')\n",
    "#     area_2 = f(b)\n",
    "#     print(f'Area_2{area_2}')\n",
    "#     print(f'Area{area}')\n",
    "    for i in range(1, n):\n",
    "       # print(i)\n",
    "        x = a + i*h;\n",
    "        area = area + f(x) \n",
    "      \n",
    "    return area*h\n",
    "# End of Trap \n",
    "a = 0.0 # lower bound of integration interval\n",
    "b = .5*math.pi # upper bound of integration interval\n",
    "#print(b)\n",
    "\n",
    "\n",
    "spaces = ''*500\n",
    "n_ = [1, 2, 4, 8, 16, 32, 64, 128, 256]\n",
    "error_ = []\n",
    "ratio = []\n",
    "for n in n_:\n",
    "    #n = 2 # number of intervals\n",
    "    h = (b-a)/n\n",
    "    area = Trap(a, b, n, h)\n",
    "    error = 1 - area\n",
    "    error_.append(float(format(error,'0.3e')))\n",
    "    T_n.append(area)\n",
    "    \n",
    "for j in range(0,8):\n",
    "    ratio_ = error_[j]/error_[j+1]\n",
    "    ratio.append(ratio_)\n",
    "    \n",
    "    #print(error_[i+1], error_[i])\n",
    "    #print(f'{ratio:0.2f}')\n",
    "    #print()\n",
    "    \n",
    "print(f'n {spaces} Tn {spaces} Error {spaces} Ratio')    \n",
    "for i in range(9):\n",
    "    print(f'{n_[i]} {spaces} {T_n[i]:0.9f} {spaces} {error_[i]:0.2e} {spaces} {[ratio[i]:0.2f if i 0: ]}')\n",
    "   \n",
    "\n",
    "    \n",
    "    \n",
    "    \n",
    "    \n",
    "    \n",
    "    #print(f'{error:0.2e}')\n",
    "#     print(\"With n =\", n, \"intervals, our trapezoid estimate\")\n",
    "#     print (\"Area from\", a, \"to\", b, \"= %.15f\" % area)\n",
    "#    print(f'{n} {spaces} {area} {spaces} {})\n",
    "\n",
    "\n"
   ]
  }
 ],
 "metadata": {
  "kernelspec": {
   "display_name": "Python 3 (ipykernel)",
   "language": "python",
   "name": "python3"
  },
  "language_info": {
   "codemirror_mode": {
    "name": "ipython",
    "version": 3
   },
   "file_extension": ".py",
   "mimetype": "text/x-python",
   "name": "python",
   "nbconvert_exporter": "python",
   "pygments_lexer": "ipython3",
   "version": "3.10.12"
  }
 },
 "nbformat": 4,
 "nbformat_minor": 5
}
