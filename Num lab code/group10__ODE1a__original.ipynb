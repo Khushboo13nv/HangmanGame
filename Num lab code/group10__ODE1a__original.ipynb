{
 "cells": [
  {
   "cell_type": "markdown",
   "metadata": {
    "scrolled": false
   },
   "source": [
    "# Numerics Lab ODE notebook\n",
    "\n",
    "This ipython notebook is to be used to complete the problem set on the numerics lab.\n",
    "You will need to execute every cell in this notebook to complete your task.\n",
    "Some cells will require your input before executing.\n",
    "They are clearly marked.\n",
    "\n",
    "Recall that each of these cells (like the one you are reading)\n",
    "can be modified by double mouse clicking on the cell,\n",
    "and then executed by pressing `shift+enter`.\n",
    "\n",
    "## Prerequisites to performing this lab\n",
    "\n",
    "You should have already read the\n",
    "[ode_manual.pdf](http://www.usm.uni-muenchen.de/people/puls/lessons/numpraktnew/ode/ode_manual.pdf).\n",
    "You should also have answered all of the questions in the text up to Chapter&nbsp;4.\n",
    "This notebook is to be used in lieu of (most of) Chapter&nbsp;4 of the PDF manual.\n",
    "Important cells in the below notebook have a unique number\n",
    "that you can use to refer to in your lab write-up.\n",
    "You can create additional cells to help you organize your work.\n",
    "\n",
    "Note that this notebook is intended to help you perform the experiments.\n",
    "It is not a substitute for the written lab report that you must hand in\n",
    "and that explains your experiments and results in a clear,\n",
    "comprehensible manner.\n"
   ]
  },
  {
   "cell_type": "markdown",
   "metadata": {
    "scrolled": false
   },
   "source": [
    "# Part&nbsp;1 &mdash; Integrator properties\n",
    "\n",
    "This part should be done on the first afternoon of the lab work.\n"
   ]
  },
  {
   "cell_type": "code",
   "execution_count": null,
   "metadata": {
    "scrolled": false
   },
   "outputs": [],
   "source": [
    "#cell #1\n",
    "# You do not need to modify this cell.\n",
    "# It is used to import some code dependencies.\n",
    "\n",
    "%matplotlib inline\n",
    "import matplotlib.pyplot as plt\n",
    "import numpy as np\n",
    "from scipy.integrate import ode\n"
   ]
  },
  {
   "cell_type": "code",
   "execution_count": null,
   "metadata": {
    "scrolled": false
   },
   "outputs": [],
   "source": [
    "#cell #2\n",
    "# Plotting configuration. You may modify this cell,\n",
    "# and recompile it, and then remake your plots, and\n",
    "# they will be updated to match these configurations.\n",
    "plt.rcParams.update({\n",
    "    'axes.linewidth': 0.5,\n",
    "    'axes.labelsize': 10,\n",
    "    'axes.titlesize': 12,\n",
    "    'xtick.labelsize': 10,\n",
    "    'xtick.major.width': 0.5,\n",
    "    'xtick.minor.width': 0.5,\n",
    "    'ytick.labelsize': 10,\n",
    "    'ytick.major.width': 0.5,\n",
    "    'ytick.minor.width': 0.5,\n",
    "    'lines.linewidth': 0.5,\n",
    "    'lines.markersize': 2,\n",
    "    'grid.linewidth': 0.5,\n",
    "    'legend.frameon': False,\n",
    "    'legend.numpoints': 1,\n",
    "    'legend.fontsize': 10,\n",
    "    'figure.dpi': 200,\n",
    "    'figure.figsize': (7, 5),\n",
    "    'figure.autolayout': True,\n",
    "    'ps.papersize': 'a4',\n",
    "})\n"
   ]
  },
  {
   "cell_type": "markdown",
   "metadata": {
    "scrolled": false
   },
   "source": [
    "## Problem&nbsp;1\n",
    "\n",
    "### Problem&nbsp;1.1\n",
    "\n",
    "#### Exercise&nbsp;1: Euler integrator\n",
    "\n",
    "You should complete the Euler integration routine in the below cell.\n",
    "We will then test the function to see if it works correctly.\n",
    "We have already prepared the function, and defined the\n",
    "inputs and outputs that the function should have.\n",
    "\n",
    "Note that we have specified the routine to return a\n",
    "**two-dimensional** array for `y`.\n",
    "While this would not have been strictly required for the current problem,\n",
    "we did this in anticipation of the future,\n",
    "so that we can use this routine also with **systems of ODEs**,\n",
    "where every timestep would yield a **vector** of values:\n",
    "\n",
    "         x               y     -or-           y\n",
    "      [ x_0,        [ [ y_0 ],     [ [ y1_0, y2_0, ... ],\n",
    "        x_1,          [ y_1 ],       [ y1_1, y2_1, ... ],\n",
    "        x_2,          [ y_2 ],       [ y1_2, y2_2, ... ],\n",
    "        ... ]           ...   ]              ...         ]\n"
   ]
  },
  {
   "cell_type": "code",
   "execution_count": null,
   "metadata": {
    "scrolled": false
   },
   "outputs": [],
   "source": [
    "#cell #3\n",
    "\n",
    "def eul(dydx,y0,a,b,n):\n",
    "    \"\"\"\n",
    "    Integrate the system of ODEs given by y'(x,y)=dydx(x,y)\n",
    "    with initial condition y(a)=y0 from a to b in n steps\n",
    "    using the Euler method.\n",
    "\n",
    "    Input:\n",
    "        dydx : function to compute y'(x,y)\n",
    "        y0   : 1-dim array of size m containing the initial values of y (at x0=a),\n",
    "               where m is the number of differential equations in the system\n",
    "        a    : start value of x\n",
    "        b    : end value of x\n",
    "        n    : number of steps to use for the interval [a,b]\n",
    "\n",
    "    Output:\n",
    "        x    : 1-dim array of size (n+1) containing the x values used in the integration\n",
    "        y    : 2-dim array of size (n+1,m) containing the resulting y-values\n",
    "    \"\"\"\n",
    "    print(\"Euler:\")\n",
    "    h = (b-a)/float(n)\n",
    "    x = a + h*np.arange(n+1)\n",
    "    y = np.zeros(((n+1),len(y0)))\n",
    "    y[0] = y0 # assigns the entire row y[0,*]\n",
    "    for i in range(n):\n",
    "        ...perform the Euler integration steps here...\n",
    "    print(\": \",n,\"calls of function\")\n",
    "    print(\": \",n,\"steps\")\n",
    "    return x,y\n"
   ]
  },
  {
   "cell_type": "markdown",
   "metadata": {
    "scrolled": false
   },
   "source": [
    "#### Worked example&nbsp;#1\n",
    "\n",
    "In the below cell, we provide a full worked example of\n",
    "Example&nbsp;2.5 on page&nbsp;2-6 of the PDF manual.\n",
    "Free free to play with the initial conditions, and step sizes etc.\n",
    "The results should be comparable to Figure&nbsp;2.3 of the PDF manual,\n",
    "which we reproduce below:\n",
    "\n",
    "<img src='http://www.usm.uni-muenchen.de/people/paech/Astro_Num_Lab/ODE.png'>\n",
    "\n",
    "We know what the output should be, so let&rsquo;s see\n",
    "if the Euler code that you have written is working as expected.\n",
    "\n",
    "Please pay attention to the form of the $dy/dx$ function that we have written.\n"
   ]
  },
  {
   "cell_type": "code",
   "execution_count": null,
   "metadata": {
    "scrolled": false
   },
   "outputs": [],
   "source": [
    "#cell #4\n",
    "\n",
    "def dydx_example_2_5(x, y):\n",
    "    \"\"\"\n",
    "    Example 2.5 on page 12 of the ODE notes.\n",
    "    This function accepts an x-value and y-value.\n",
    "    \"\"\"\n",
    "    return -np.sin(x)*(y**2)\n",
    "\n",
    "# The initial conditions.\n",
    "x0 = 0.\n",
    "y0 = [2.01]\n",
    "\n",
    "# End of integration interval. Adjust this parameter.\n",
    "x1 = 4.\n",
    "\n",
    "# How many steps in both +x and -x directions. Adjust this parameter.\n",
    "n_steps = 30\n",
    "\n",
    "x_pos, y_pos = eul(dydx_example_2_5,y0,x0, x1,n_steps,)\n",
    "x_neg, y_neg = eul(dydx_example_2_5,y0,x0,-x1,n_steps,)\n",
    "\n",
    "# This neat trick combines two arrays:\n",
    "x = np.append(np.flipud(x_neg), x_pos)\n",
    "y = np.append(np.flipud(y_neg), y_pos)\n",
    "\n",
    "# The y_analytic = results are on page 12 (2-6) of ODE pdf.\n",
    "y_analytic = 1./(1.+1./y0[0]-np.cos(x))\n",
    "\n",
    "# Let's compare the output of your Euler code with the analytic results:\n",
    "plt.plot(x, y, '-', label='Euler Method Solution')\n",
    "plt.plot(x, y_analytic, '--', color='red', label='Analytic Solution')\n",
    "plt.legend()\n"
   ]
  },
  {
   "cell_type": "markdown",
   "metadata": {},
   "source": [
    "### Q1: Modify the interesting parameters of the call to the Euler integrator. Document which are good choices to make?"
   ]
  },
  {
   "cell_type": "markdown",
   "metadata": {
    "scrolled": false
   },
   "source": [
    "#### Exercise&nbsp;2: Explore the step size, and number of steps.\n",
    "\n",
    "In cell&nbsp;#4 above, modify the interesting parameters\n",
    "of the call to the Euler integrator.\n",
    "Document which are good choices to make.\n"
   ]
  },
  {
   "cell_type": "markdown",
   "metadata": {
    "scrolled": false
   },
   "source": [
    "#### Exercise&nbsp;3\n",
    "\n",
    "As a first exercise, we would now like to solve a first-order differential equation defined by\n",
    "\n",
    "$$\\partial_x y(x) = a y(x)$$\n",
    "with $a=2.5$ and $y(0)=0.001$.\n",
    "\n",
    "* Write down your analytic solution into cell&nbsp;#5.\n",
    "Format the solution nicely, and show your steps.\n",
    "\n",
    "* Then code the ODE $\\partial_x y(x)$, and the exact solution function, into cell&nbsp;#6.\n",
    "\n",
    "* Read and understand the code in cell&nbsp;#7.\n",
    "Add additional comments to make the code easier to read.\n",
    "Then execute cell&nbsp;#7, and explore the resulting plots in cell&nbsp;#8.\n",
    "\n",
    "\n",
    "Compare the results when using 100 and 1000 steps.\n"
   ]
  },
  {
   "cell_type": "markdown",
   "metadata": {},
   "source": [
    "### Q2: Compare the results when using 100 and 1000 steps.\n"
   ]
  },
  {
   "cell_type": "markdown",
   "metadata": {
    "scrolled": false
   },
   "source": [
    "#cell #5\n",
    "\n",
    "Your analytic solution goes here.\n",
    "Double mouse click on this cell to edit it.\n",
    "\n",
    "You can use LaTeX code to format equations\n",
    "(e.g., $\\exp(x)=\\sum\\limits_{i=0}^\\infty {x^i\\over i!}$).\n"
   ]
  },
  {
   "cell_type": "code",
   "execution_count": null,
   "metadata": {
    "scrolled": false
   },
   "outputs": [],
   "source": [
    "#cell #6\n",
    "# Complete these functions.\n",
    "\n",
    "def p1_dydx(x,y):\n",
    "    return something...\n",
    "\n",
    "def p1_analytic(x):\n",
    "    return something else...\n"
   ]
  },
  {
   "cell_type": "code",
   "execution_count": null,
   "metadata": {
    "scrolled": false
   },
   "outputs": [],
   "source": [
    "#cell #7\n",
    "\n",
    "p1_a = 0.\n",
    "p1_b = 10.\n",
    "\n",
    "p1_y0 = [1e-3]\n",
    "\n",
    "# Run the integration with 100 and 1000 steps.\n",
    "# Also, create labels that we can use below\n",
    "# to mark each curve in the following plot.\n",
    "\n",
    "p11_x_100, p11_y_eul_100 = eul(p1_dydx,p1_y0,p1_a,p1_b,100)\n",
    "p11_eul_100_label = 'Euler {0},{1}'.format(100,100)\n",
    "\n",
    "p11_y_exa_100 = p1_analytic(p11_x_100)\n",
    "p11_exa_100_label = 'Analytic solution'\n",
    "\n",
    "p11_x_1000,p11_y_eul_1000 = eul(p1_dydx,p1_y0,p1_a,p1_b,1000)\n",
    "p11_eul_1000_label = 'Euler {0},{1}'.format(1000,1000)\n",
    "\n",
    "p11_y_exa_1000 = p1_analytic(p11_x_1000)\n",
    "p11_exa_1000_label = 'Analytic solution'\n"
   ]
  },
  {
   "cell_type": "code",
   "execution_count": null,
   "metadata": {
    "scrolled": false
   },
   "outputs": [],
   "source": [
    "#cell #8\n",
    "\n",
    "plt.figure()\n",
    "plt.plot(p11_x_1000, p11_y_eul_1000[:,0], 'c-o', label=p11_eul_1000_label)\n",
    "plt.plot(p11_x_100,  p11_y_eul_100 [:,0], 'm-o', label=p11_eul_100_label)\n",
    "plt.plot(p11_x_1000, p11_y_exa_1000[:,0], 'k-',  label=p11_exa_1000_label)\n",
    "plt.legend(loc='upper left')\n",
    "plt.xlabel('x')\n",
    "plt.ylabel('y')\n",
    "plt.title('P1.1_lin')\n",
    "# We can also save this figure to disk as a pdf or ps.\n",
    "plt.savefig('P1.1_lin.ps')\n",
    "plt.show()\n",
    "plt.close()\n",
    "\n",
    "plt.figure()\n",
    "plt.plot(p11_x_1000, p11_y_eul_1000[:,0], 'c-o', label=p11_eul_1000_label)\n",
    "plt.plot(p11_x_100,  p11_y_eul_100 [:,0], 'm-o', label=p11_eul_100_label)\n",
    "plt.plot(p11_x_1000, p11_y_exa_1000[:,0], 'k-',  label=p11_exa_1000_label)\n",
    "plt.legend(loc='upper left')\n",
    "plt.xlabel('x')\n",
    "plt.ylabel('y')\n",
    "plt.yscale('log')\n",
    "plt.title('P1.1_log')\n",
    "plt.savefig('P1.1_log.ps')\n",
    "plt.show()\n",
    "plt.close()\n"
   ]
  },
  {
   "cell_type": "markdown",
   "metadata": {},
   "source": [
    "### Q3: Compute the maximum deviation.\n",
    "### Q4: Document the Python function for global discretization error."
   ]
  },
  {
   "cell_type": "markdown",
   "metadata": {
    "scrolled": false
   },
   "source": [
    "#### Exercise&nbsp;4: Global discretization error\n",
    "\n",
    "We have calculated an approximation to the solution.\n",
    "Let us now determine the &ldquo;global discretization error&rdquo;\n",
    "as given by equations 2.10 through 2.12 on page 2-3 of the PDF manual.\n",
    "\n",
    "Compute the maximum deviation and print this to the screen.\n",
    "Now turn the computation into a function that accepts two inputs,\n",
    "y1 and y2, and returns the maximum value of the global discretization error.\n",
    "Document the function and the code.\n",
    "\n",
    "Show all of your workings in cell&nbsp;#9.\n"
   ]
  },
  {
   "cell_type": "code",
   "execution_count": null,
   "metadata": {
    "scrolled": false
   },
   "outputs": [],
   "source": [
    "#cell #9\n",
    "#Global discretization error, eq. 2.10 page 2-3 ODE pdf\n",
    "\n",
    "def global_err(y_approx,y_exact):\n",
    "    return something...\n",
    "\n",
    "print(\"Global error from Euler with  100 steps:\",global_err(p11_y_eul_100 ,p11_y_exa_100 ))\n",
    "print(\"Global error from Euler with 1000 steps:\",global_err(p11_y_eul_1000,p11_y_exa_1000))\n"
   ]
  },
  {
   "cell_type": "markdown",
   "metadata": {
    "scrolled": false
   },
   "source": [
    "### Problem&nbsp;1.2\n",
    "\n",
    "#### Runge-Kutta integrator\n",
    "\n",
    "In cell&nbsp;#10 we have prepared a routine that uses the classical 4th-order Runge-Kutta method\n",
    "to integrate a set of ordinary differential equations.\n",
    "You do not need to modify this cell, but you should understand the variables\n",
    "passed to and returned from this function.\n",
    "See if you can recognize the Runge-Kutta scheme as it is shown in the PDF manual.\n"
   ]
  },
  {
   "cell_type": "code",
   "execution_count": null,
   "metadata": {
    "scrolled": false
   },
   "outputs": [],
   "source": [
    "#cell #10\n",
    "# You do not need to modify this cell. You should ensure you understand the variables passed to this function.\n",
    "\n",
    "def rk4(dydx,y0,a,b,n):\n",
    "    \"\"\"\n",
    "    Integrate the system of ODEs given by y'(x,y)=dydx(x,y)\n",
    "    with initial condition y(a)=y0 from a to b in n steps\n",
    "    using the classical 4th-order Runge-Kutta method.\n",
    "\n",
    "    Input:\n",
    "        dydx : function to compute y'(x,y)\n",
    "        y0   : 1-dim array of size m containing the initial values of y (at x0=a),\n",
    "               where m is the number of differential equations in the system\n",
    "        a    : start value of x\n",
    "        b    : end value of x\n",
    "        n    : number of steps to use for the interval [a,b]\n",
    "\n",
    "    Output:\n",
    "        x    : 1-dim array of size (n+1) containing the x values used in the integration\n",
    "        y    : 2-dim array of size (n+1,m) containing the resulting y-values\n",
    "    \"\"\"\n",
    "    print(\"rk4:\")\n",
    "    h = (b-a)/float(n)\n",
    "    x = a + h*np.arange(n+1)\n",
    "    y = np.zeros(((n+1),len(y0)))\n",
    "    y[0] = y0\n",
    "    for i in range(n):\n",
    "        xi = x[i]; yi = y[i]\n",
    "        k1 = h*dydx(xi     ,yi      )\n",
    "        k2 = h*dydx(xi+h*.5,yi+k1*.5)\n",
    "        k3 = h*dydx(xi+h*.5,yi+k2*.5)\n",
    "        k4 = h*dydx(xi+h   ,yi+k3   )\n",
    "        y[i+1] = yi + (k1 + 2.*k2 + 2.*k3 + k4)/6.\n",
    "    print(\": \",4*n,\"calls of function\")\n",
    "    print(\": \",n,\"steps\")\n",
    "    return x,y\n"
   ]
  },
  {
   "cell_type": "markdown",
   "metadata": {
    "scrolled": false
   },
   "source": [
    "#### Exercise&nbsp;5: Call the 4th-order Runge-Kutta code\n",
    "\n",
    "In cell&nbsp;#11, apply the Runge-Kutta code to the ODE,\n",
    "and plot the output in cell&nbsp;#12.\n",
    "How does the accuracy of RK4 compare with the Euler function that you wrote?\n",
    "You must describe these results in your report.\n",
    "Show if it is more or less accurate in cell&nbsp;#13.\n"
   ]
  },
  {
   "cell_type": "code",
   "execution_count": null,
   "metadata": {
    "scrolled": false
   },
   "outputs": [],
   "source": [
    "#cell #11\n",
    "\n",
    "...run the Runge-Kutta code like you did the Euler code in cell #7...\n"
   ]
  },
  {
   "cell_type": "code",
   "execution_count": null,
   "metadata": {
    "scrolled": false
   },
   "outputs": [],
   "source": [
    "#cell #12\n",
    "\n",
    "...and plot the results.\n"
   ]
  },
  {
   "cell_type": "code",
   "execution_count": null,
   "metadata": {
    "scrolled": false
   },
   "outputs": [],
   "source": [
    "#cell #13\n",
    "\n",
    "# Calculate the global discretization error and compare with results from Exercise 4.\n",
    "\n",
    "print(\"...\",global_err(..., ...))\n",
    "print(\"...\",global_err(..., ...))\n",
    "(etc.)\n"
   ]
  },
  {
   "cell_type": "markdown",
   "metadata": {
    "scrolled": false
   },
   "source": [
    "#### Exercise&nbsp;6: Plot the relative discretization error of both methods\n",
    "\n",
    "In this exercise you should calculate (and plot as a function of x)\n",
    "the relative difference between the approximate numeric solutions\n",
    "and the analytic solution.\n",
    "Why is it often more meaningful to look at the relative errors\n",
    "rather than the absolute errors?\n",
    "\n",
    "For this exercise work entirely in cell&nbsp;#14.\n",
    "Label any plots, and add legends.\n",
    "Document your code accordingly.\n"
   ]
  },
  {
   "cell_type": "code",
   "execution_count": null,
   "metadata": {
    "scrolled": false
   },
   "outputs": [],
   "source": [
    "#cell #14\n",
    "\n",
    "def rel_err(y_approx,y_exact):\n",
    "    return something...\n",
    "\n",
    "...and plot it.\n"
   ]
  },
  {
   "cell_type": "markdown",
   "metadata": {
    "scrolled": false
   },
   "source": [
    "### Problem&nbsp;1.3\n",
    "\n",
    "#### Other integrators\n",
    "\n",
    "In cell&nbsp;#15 below we provide wrapper routines for\n",
    "calling other integrators provided by the SciPy library.\n",
    "We have implemented these as *classes* in order to\n",
    "encapsulate some internally used variables.\n",
    "\n",
    "These classes are used as follows:\n",
    "```\n",
    "rk5_instance = RKDP5(dydx_func, initial_y, initial_x, final_x)\n",
    "rk5_instance.integrate()\n",
    "x_result, y_result, num_funccalls, num_goodsteps, num_badsteps, num_totalsteps = rk5_instance.result()\n",
    "```\n",
    "An optional `tol=`_tolerance_ argument can be additionally supplied in the\n",
    "`RKDP5` and `STIFF` calls to choose a tolerance different from the default one.\n",
    "\n",
    "You do not need to modify this cell, but you should understand\n",
    "the variables passed to and returned from this function.\n"
   ]
  },
  {
   "cell_type": "code",
   "execution_count": null,
   "metadata": {
    "scrolled": false
   },
   "outputs": [],
   "source": [
    "#cell #15\n",
    "\n",
    "class RKDP5:\n",
    "    \"\"\"\n",
    "    Class to integrate the system of ODEs given by y'(x,y)=dydx(x,y)\n",
    "    with initial condition y(a)=y0 from a to b using the\n",
    "    4th/5th-order Dormand-Prince Runge-Kutta method with\n",
    "    automatic stepsize adjustment controlled by tolerance tol.\n",
    "    Call like:\n",
    "\n",
    "    rk5_instance = RKDP5(dydx, initial_y, start_point_x, end_point_x)\n",
    "    rk5_instance.integrate()\n",
    "    result = rk5_instance.result()\n",
    "    \"\"\"\n",
    "\n",
    "    def __init__(self, dydx, initial_y, start_point_x, end_point_x, tol=1e-6, nsteps=100000):\n",
    "        self.dydx = dydx\n",
    "        self.start_point_x = start_point_x\n",
    "        self.end_point_x = end_point_x\n",
    "        self.initial_y = initial_y\n",
    "        self.tol = tol\n",
    "        self.nsteps = nsteps\n",
    "\n",
    "        #initialize the number of function calls\n",
    "        self.num_good_steps = 0\n",
    "        self.num_bad_steps = 0\n",
    "        self.num_function_calls = 0\n",
    "\n",
    "        #initialize the solver\n",
    "        self.solver = ode(self.function_checker)\n",
    "        self.initialize_solver()\n",
    "\n",
    "        #initialize the results array\n",
    "        self.xa = []\n",
    "        self.ya = []\n",
    "        self.xa.append(start_point_x)\n",
    "        self.ya.append(initial_y)\n",
    "\n",
    "    def reset_counter(self):\n",
    "        \"\"\"reset the number of function call counters\"\"\"\n",
    "        self.num_good_steps = 0\n",
    "        self.num_bad_steps = 0\n",
    "        self.num_function_calls = 0\n",
    "        self.xa = []\n",
    "        self.ya = []\n",
    "\n",
    "    def function_checker(self, x, y):\n",
    "        \"\"\"Checks whether the integrator backtracks\n",
    "        (indicating that the accuracy was too low\n",
    "        and thus the step was bad)\"\"\"\n",
    "        self.countsteps()\n",
    "        if x < self.start_point_x:\n",
    "            self.badstep()\n",
    "        self.start_point_x = x\n",
    "        return self.dydx(x, y)\n",
    "\n",
    "    def countsteps(self):\n",
    "        self.num_function_calls += 1\n",
    "\n",
    "    def goodstep(self, x, y):\n",
    "        \"\"\"If we have performed a good step\"\"\"\n",
    "        self.num_good_steps += 1\n",
    "        self.xa.append(x)\n",
    "        self.ya.append(np.copy(y))\n",
    "\n",
    "    def badstep(self):\n",
    "        \"\"\"If we have encountered a bad step\"\"\"\n",
    "        self.num_bad_steps += 1\n",
    "\n",
    "    def initialize_solver(self, initial_y=None):\n",
    "        \"\"\"initialize the scipy ODE solver\"\"\"\n",
    "        if initial_y is None:\n",
    "            initial_y = self.initial_y\n",
    "\n",
    "        self.solver.set_integrator('dopri5', rtol=self.tol, atol=1e-15, nsteps=self.nsteps, verbosity=0, first_step=1.)\n",
    "        self.solver.set_solout(self.goodstep)\n",
    "        self.solver.set_initial_value(self.initial_y, t=self.start_point_x)\n",
    "\n",
    "    def integrate(self, end_point_x=None):\n",
    "        if end_point_x is None:\n",
    "            end_point_x = self.end_point_x\n",
    "        print(\"rkdp5:\")\n",
    "        self.solver.integrate(end_point_x)\n",
    "        print(\": \",self.num_function_calls,\"calls of function\")\n",
    "        print(\": \",self.num_good_steps,\"good steps\")\n",
    "        print(\": \",self.num_bad_steps,\"rejected steps\")\n",
    "        print(\": \",self.num_good_steps+self.num_bad_steps,\"total steps\")\n",
    "\n",
    "    def result(self):\n",
    "        return np.array(self.xa), np.array(self.ya), self.num_function_calls, self.num_good_steps, self.num_bad_steps, self.num_good_steps + self.num_bad_steps\n",
    "\n",
    "\n",
    "class STIFF:\n",
    "    \"\"\"\n",
    "    Class to integrate the system of ODEs given by y'(x,y)=dydx(x,y)\n",
    "    with initial condition y(a)=y0 from a to b using a\n",
    "    solver based on backward differentiation formulas with\n",
    "    automatic stepsize adjustment controlled by tolerance tol.\n",
    "    Call like:\n",
    "\n",
    "    stiff_instance = STIFF(dydx, jacobian, initial_y, start_point_x, end_point_x)\n",
    "    stiff_instance.integrate()\n",
    "    result = stiff_instance.result()\n",
    "    \"\"\"\n",
    "\n",
    "    def __init__(self, dydx, jacobian, initial_y, start_point_x, end_point_x, tol=1e-6, nsteps=10000):\n",
    "        self.dydx = dydx\n",
    "        self.jacobian = jacobian\n",
    "        self.start_point_x = start_point_x\n",
    "        self.end_point_x = end_point_x\n",
    "        self.initial_y = initial_y\n",
    "        self.tol = tol\n",
    "        self.nsteps = nsteps\n",
    "\n",
    "        #initialize the number of function calls\n",
    "        self.num_good_steps = 0\n",
    "        self.num_bad_steps = 0\n",
    "        self.num_function_calls = 0\n",
    "        self.num_jacobian_calls = 0\n",
    "\n",
    "        #initialize the solver\n",
    "        self.solver = ode(self.function_checker, self.call_count_jacobias)\n",
    "        self.solver.set_integrator('vode', method='bdf', rtol=self.tol, atol=1e-15, nsteps=self.nsteps)\n",
    "        self.solver.set_initial_value(self.initial_y, t=self.start_point_x)\n",
    "\n",
    "        #initialize the results array\n",
    "        self.xa = []\n",
    "        self.ya = []\n",
    "        self.xa.append(start_point_x)\n",
    "        self.ya.append(initial_y)\n",
    "\n",
    "    def function_checker(self, x, y):\n",
    "        \"\"\"Checks whether the integrator backtracks\n",
    "        (indicating that the accuracy was too low\n",
    "        and thus the step was bad)\"\"\"\n",
    "        self.count_function_calls()\n",
    "        if x <= self.start_point_x:\n",
    "            self.badstep()\n",
    "        self.start_point_x = x\n",
    "        return self.dydx(x, y)\n",
    "\n",
    "    def count_function_calls(self):\n",
    "        self.num_function_calls += 1\n",
    "\n",
    "    def call_count_jacobias(self, x, y):\n",
    "        self.num_jacobian_calls += 1\n",
    "        return self.jacobian(x, y)\n",
    "\n",
    "    def goodstep(self, x, y):\n",
    "        \"\"\"If we have performed a good step\"\"\"\n",
    "        self.num_good_steps +=1\n",
    "        self.xa.append(x)\n",
    "        self.ya.append(np.copy(y))\n",
    "\n",
    "    def badstep(self):\n",
    "        \"\"\"If we have encountered a bad step\"\"\"\n",
    "        self.num_bad_steps += 1\n",
    "\n",
    "    def integrate(self, end_point_x=None):\n",
    "        if end_point_x is None:\n",
    "            end_point_x = self.end_point_x\n",
    "        self.num_good_steps = 0\n",
    "\n",
    "        print(\"stiff:\")\n",
    "        while self.solver.successful() and self.solver.t < end_point_x:\n",
    "            self.solver.integrate(self.end_point_x, step=True)\n",
    "            self.goodstep(self.solver.t, self.solver.y)\n",
    "        print(\": \",self.num_function_calls,\"calls of function\")\n",
    "        print(\": \",self.num_jacobian_calls,\"calls of jacobian\")\n",
    "        print(\": \",self.num_good_steps,\"good steps\")\n",
    "        print(\": \",self.num_bad_steps,\"rejected steps\")\n",
    "        print(\": \",self.num_good_steps+self.num_bad_steps,\"total steps\")\n",
    "\n",
    "    def result(self):\n",
    "        return np.array(self.xa), np.array(self.ya), self.num_function_calls, self.num_good_steps, self.num_bad_steps, self.num_good_steps + self.num_bad_steps\n"
   ]
  },
  {
   "cell_type": "markdown",
   "metadata": {
    "scrolled": false
   },
   "source": [
    "#### Exercise&nbsp;7: Call the adaptive-stepsize Runge-Kutta and the &ldquo;stiff&rdquo; integrators\n",
    "\n",
    "Repeat the previous exercise with the adaptive-stepsize Runge-Kutta\n",
    "and the &ldquo;stiff&rdquo; integrators.\n",
    "How do they compare to the results from the RK4 integrator using 1000 steps?\n",
    "\n",
    "Note that you also need to define a function that returns the\n",
    "Jacobian of the system for use by the &ldquo;stiff&rdquo; integrator.\n"
   ]
  },
  {
   "cell_type": "code",
   "execution_count": null,
   "metadata": {
    "scrolled": false
   },
   "outputs": [],
   "source": [
    "#cell #16\n",
    "\n",
    "def p1_jac(x,y):\n",
    "    return something... (Note that the Jacobian is a matrix.)\n",
    "\n",
    "...run the two integrators...\n"
   ]
  },
  {
   "cell_type": "code",
   "execution_count": null,
   "metadata": {
    "scrolled": false
   },
   "outputs": [],
   "source": [
    "#cell #17\n",
    "\n",
    "...and plot the results (and those from RK4 and Euler)\n",
    "and the relative errors.\n"
   ]
  },
  {
   "cell_type": "markdown",
   "metadata": {
    "scrolled": false
   },
   "source": [
    "### Problem&nbsp;1.4\n",
    "\n",
    "#### Exercise&nbsp;8: Accuracy of the other integrators\n",
    "\n",
    "By varying the tolerance parameter,\n",
    "find the number of steps the adaptive-stepsize integrators need\n",
    "to obtain the same accuracy as the RK4 integrator with 1000 steps.\n",
    "How does the requested tolerance compare with the actually achieved accuracy?\n",
    "How does the accuracy of the adaptive-stepsize integrators compare\n",
    "to that of RK4 if the same number of steps is used?\n"
   ]
  },
  {
   "cell_type": "code",
   "execution_count": null,
   "metadata": {
    "scrolled": false
   },
   "outputs": [],
   "source": [
    "#cell #18\n",
    "\n",
    "...run rkdp5 and stiff with different tolerance values...\n"
   ]
  },
  {
   "cell_type": "code",
   "execution_count": null,
   "metadata": {
    "scrolled": false
   },
   "outputs": [],
   "source": [
    "#cell #19\n",
    "\n",
    "...and plot the results and the errors.\n",
    "Repeat #18 and #19 as needed.\n"
   ]
  },
  {
   "cell_type": "markdown",
   "metadata": {
    "scrolled": false
   },
   "source": [
    "### Problem&nbsp;1.5\n",
    "\n",
    "Summarize the results you obtained for Problem&nbsp;1.\n",
    "Which integrator would you trust most, and why?\n"
   ]
  },
  {
   "cell_type": "markdown",
   "metadata": {
    "scrolled": false
   },
   "source": [
    "## Problem&nbsp;2 &mdash; Coupled differential equations\n",
    "\n",
    "We can also solve coupled differential equations, such as\n",
    "\n",
    "$\\partial_x y_1 =  998y_1 + 1998y_2$\n",
    "\n",
    "$\\partial_x y_2 = -999y_1 - 1999y_2$\n",
    "\n",
    "with initial conditions $y_1(0)=1$ and $y_2(0)=0$.\n",
    "\n",
    "To solve such a system with our above solvers,\n",
    "we must simply provide a `dydx`-function that returns\n",
    "a vector of values, one element for each equation in the system.\n",
    "Similarly, we must provide a vector of initial values.\n"
   ]
  },
  {
   "cell_type": "markdown",
   "metadata": {
    "scrolled": false
   },
   "source": [
    "#### Exercise&nbsp;9 (Advanced)\n",
    "\n",
    "Solve the above problem analytically.\n",
    "Remember the solution ansatz for such homogeneous DEs with constant coefficients:\n",
    "$\\mathbf{y}=\\mathbf{v}\\exp(\\lambda x)$.\n",
    "Inserting this ansatz into the DE, you should be able to derive the general solution,\n",
    "and, using the initial condition, the specific one.\n",
    "(Hint: as an intermediate result, you should find the eigenvalues of\n",
    "$\\mathbf{A}$ as $\\lambda_{1,2}=(-1,-1000)$.)\n"
   ]
  },
  {
   "cell_type": "markdown",
   "metadata": {
    "scrolled": false
   },
   "source": [
    "#cell #20\n",
    "\n",
    "Your solution goes here."
   ]
  },
  {
   "cell_type": "markdown",
   "metadata": {
    "scrolled": false
   },
   "source": [
    "### Problem&nbsp;2.1\n",
    "\n",
    "#### Exercise&nbsp;10\n",
    "\n",
    "Solve the above system over the interval [0,4] with all 4 integrators.\n",
    "For the fixed-step integrators use 10000 steps,\n",
    "for the others a tolerance of $10^{-5}$.\n",
    "Plot and compare the relative errors as well.\n",
    "How many steps do RKDP5 and stiff need?\n"
   ]
  },
  {
   "cell_type": "code",
   "execution_count": null,
   "metadata": {
    "scrolled": false
   },
   "outputs": [],
   "source": [
    "#cell #21\n",
    "\n",
    "p2_a = 0.\n",
    "p2_b = 4.\n",
    "p2_y0 = [1., 0.]\n",
    "\n",
    "def p2_analytic(x):\n",
    "    return something...\n",
    "\n",
    "def p2_dydx(x,y):\n",
    "    return something...\n",
    "\n",
    "def p2_jac(x,y):\n",
    "    return something...\n",
    "\n",
    "...and run the integrators...\n"
   ]
  },
  {
   "cell_type": "code",
   "execution_count": null,
   "metadata": {
    "scrolled": false
   },
   "outputs": [],
   "source": [
    "#cell #22\n",
    "\n",
    "...and plot the results and the errors.\n"
   ]
  },
  {
   "cell_type": "markdown",
   "metadata": {
    "scrolled": false
   },
   "source": [
    "### Problem&nbsp;2.2 &mdash; integrator stability\n",
    "\n",
    "#### Exercise&nbsp;11\n",
    "\n",
    "Test the stability conditions derived in Section&nbsp;2.5 of the PDF manual,\n",
    "both for the Euler integrator and for RK4.\n",
    "What maximum stepsize is allowed in each case?\n",
    "(Eigenvalues found in Exercise&nbsp;9).\n",
    "How does this transform into a step number?\n",
    "(Allow for 3 additional steps accounting for rounding errors).\n",
    "Check the solution with the corresponding (minimum) step-numbers,\n",
    "particularly whether the numerical results decay to the analytic solution.\n",
    "Plot the corresponding numerical solutions in comparison to the exact one.\n",
    "Reduce the step number by ten and watch what happens.\n"
   ]
  },
  {
   "cell_type": "code",
   "execution_count": null,
   "metadata": {
    "scrolled": false
   },
   "outputs": [],
   "source": [
    "#cell #23\n",
    "\n",
    "...run the integrators with the critical step numbers\n",
    "(and a little more and a little less)...\n"
   ]
  },
  {
   "cell_type": "code",
   "execution_count": null,
   "metadata": {
    "scrolled": false
   },
   "outputs": [],
   "source": [
    "#cell #24\n",
    "\n",
    "...and plot the results.\n"
   ]
  }
 ],
 "metadata": {
  "kernelspec": {
   "display_name": "Python 3 (ipykernel)",
   "language": "python",
   "name": "python3"
  },
  "language_info": {
   "codemirror_mode": {
    "name": "ipython",
    "version": 3
   },
   "file_extension": ".py",
   "mimetype": "text/x-python",
   "name": "python",
   "nbconvert_exporter": "python",
   "pygments_lexer": "ipython3",
   "version": "3.10.12"
  }
 },
 "nbformat": 4,
 "nbformat_minor": 1
}
